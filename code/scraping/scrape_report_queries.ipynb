{
 "cells": [
  {
   "cell_type": "code",
   "execution_count": 82,
   "metadata": {
    "collapsed": false
   },
   "outputs": [
    {
     "name": "stdout",
     "output_type": "stream",
     "text": [
      "5\n",
      "5\n",
      "10\n",
      "BVP\n",
      "ORG\n",
      "RP\n",
      "ORG\n",
      "BS\n",
      "5\n",
      "5\n",
      "10\n",
      "BVP\n",
      "ORG\n",
      "RP\n",
      "ORG\n",
      "BS\n",
      "5\n",
      "5\n",
      "10\n",
      "BVP\n",
      "ORG\n",
      "RP\n",
      "ORG\n",
      "BS\n",
      "5\n",
      "5\n",
      "10\n",
      "BVP\n",
      "ORG\n",
      "RP\n",
      "ORG\n",
      "BS\n",
      "5\n",
      "5\n",
      "10\n",
      "BVP\n",
      "ORG\n",
      "RP\n",
      "ORG\n",
      "BS\n",
      "5\n",
      "5\n",
      "10\n",
      "BVP\n",
      "ORG\n",
      "RP\n",
      "ORG\n",
      "BS\n",
      "5\n",
      "5\n",
      "10\n",
      "BVP\n",
      "ORG\n",
      "RP\n",
      "ORG\n",
      "BS\n",
      "5\n",
      "5\n",
      "10\n",
      "BVP\n",
      "ORG\n",
      "RP\n",
      "ORG\n",
      "BS\n",
      "5\n",
      "5\n",
      "10\n",
      "BVP\n",
      "ORG\n",
      "RP\n",
      "ORG\n",
      "BS\n",
      "5\n",
      "5\n",
      "10\n",
      "BVP\n",
      "ORG\n",
      "RP\n",
      "ORG\n",
      "BS\n"
     ]
    }
   ],
   "source": [
    "import time\n",
    "\n",
    "import time\n",
    "from selenium import webdriver\n",
    "from bs4 import BeautifulSoup\n",
    "import pandas as pd\n",
    "from selenium.webdriver import Chrome\n",
    "from selenium.webdriver.chrome.options import Options\n",
    "\n",
    "board_names_css = 'p~ p+ table .iwuddata+ .iwuddata'\n",
    "board_positions_css = 'tr+ tr .iwuddata:nth-child(1)'\n",
    "board_orgs_css = 'p+ table .iwuddata+ .iwud'\n",
    "chrome_options = Options()\n",
    "chrome_options.add_argument('--dns-prefetch-disable')\n",
    "#driver = Chrome(chrome_options=options)\n",
    "from selenium.webdriver.support.ui import Select\n",
    "from selenium.webdriver.support import expected_conditions as EC\n",
    "driver = webdriver.Chrome(chrome_options=chrome_options)  # Optional argument, if not specified will search path.\n",
    "base_page = 'http://www14.tceq.texas.gov/iwud/reports/index.cfm?fuseaction=mainreportform&TableId=257'\n",
    "driver.get(base_page)\n",
    "Select(driver.find_element_by_name('fuseaction')).select_by_value('ERPT0001')\n",
    "driver.find_element_by_css_selector('input').click()\n",
    "district_base = pd.read_csv('../../input/tceq_audits/district_info.csv')\n",
    "empty_df = pd.DataFrame()\n",
    "\n",
    "for d in district_base['SYSTEM_ID'][:10]:\n",
    "    number_box = driver.find_element_by_name('districtnumber')\n",
    "    number_box.send_keys(str(d))\n",
    "    driver.find_element_by_name('runreport').submit()\n",
    "    board = driver.find_elements_by_css_selector(board_names_css)\n",
    "    board_orgs = driver.find_elements_by_css_selector(board_orgs_css)\n",
    "    board_positions = driver.find_elements_by_css_selector(board_positions_css)\n",
    "    if len(board)>0:\n",
    "        board_list = []\n",
    "        board_orgs_list = []\n",
    "        board_positions_list = []\n",
    "        print(len(board));print(len(board_orgs));print(len(board_positions))\n",
    "        for b in range(len(board)):\n",
    "            board_list.append(board[b].text)\n",
    "            board_orgs_list.append(board_orgs[b].text)\n",
    "            print(board_positions[b].text)\n",
    "            #board_positions_list.append(board_positions[b].text)\n",
    "        temp = pd.DataFrame({'SYSTEM_ID': d,'BOARD': board_list,'ORG':board_orgs_list})#'POSITION':board_pos_list})\n",
    "        empty_df = empty_df.append(temp)\n",
    "    driver.back()"
   ]
  },
  {
   "cell_type": "code",
   "execution_count": 84,
   "metadata": {
    "collapsed": false
   },
   "outputs": [
    {
     "ename": "StaleElementReferenceException",
     "evalue": "Message: stale element reference: element is not attached to the page document\n  (Session info: chrome=58.0.3029.110)\n  (Driver info: chromedriver=2.24.417412 (ac882d3ce7c0d99292439bf3405780058fcca0a6),platform=Mac OS X 10.12.4 x86_64)\n",
     "output_type": "error",
     "traceback": [
      "\u001b[0;31m---------------------------------------------------------------------------\u001b[0m",
      "\u001b[0;31mStaleElementReferenceException\u001b[0m            Traceback (most recent call last)",
      "\u001b[0;32m<ipython-input-84-b22b639b206d>\u001b[0m in \u001b[0;36m<module>\u001b[0;34m()\u001b[0m\n\u001b[0;32m----> 1\u001b[0;31m \u001b[0mboard_positions\u001b[0m\u001b[0;34m[\u001b[0m\u001b[0;36m0\u001b[0m\u001b[0;34m]\u001b[0m\u001b[0;34m.\u001b[0m\u001b[0mtext\u001b[0m\u001b[0;34m\u001b[0m\u001b[0m\n\u001b[0m",
      "\u001b[0;32m/Library/Frameworks/Python.framework/Versions/3.5/lib/python3.5/site-packages/selenium/webdriver/remote/webelement.py\u001b[0m in \u001b[0;36mtext\u001b[0;34m(self)\u001b[0m\n\u001b[1;32m     71\u001b[0m     \u001b[0;32mdef\u001b[0m \u001b[0mtext\u001b[0m\u001b[0;34m(\u001b[0m\u001b[0mself\u001b[0m\u001b[0;34m)\u001b[0m\u001b[0;34m:\u001b[0m\u001b[0;34m\u001b[0m\u001b[0m\n\u001b[1;32m     72\u001b[0m         \u001b[0;34m\"\"\"The text of the element.\"\"\"\u001b[0m\u001b[0;34m\u001b[0m\u001b[0m\n\u001b[0;32m---> 73\u001b[0;31m         \u001b[0;32mreturn\u001b[0m \u001b[0mself\u001b[0m\u001b[0;34m.\u001b[0m\u001b[0m_execute\u001b[0m\u001b[0;34m(\u001b[0m\u001b[0mCommand\u001b[0m\u001b[0;34m.\u001b[0m\u001b[0mGET_ELEMENT_TEXT\u001b[0m\u001b[0;34m)\u001b[0m\u001b[0;34m[\u001b[0m\u001b[0;34m'value'\u001b[0m\u001b[0;34m]\u001b[0m\u001b[0;34m\u001b[0m\u001b[0m\n\u001b[0m\u001b[1;32m     74\u001b[0m \u001b[0;34m\u001b[0m\u001b[0m\n\u001b[1;32m     75\u001b[0m     \u001b[0;32mdef\u001b[0m \u001b[0mclick\u001b[0m\u001b[0;34m(\u001b[0m\u001b[0mself\u001b[0m\u001b[0;34m)\u001b[0m\u001b[0;34m:\u001b[0m\u001b[0;34m\u001b[0m\u001b[0m\n",
      "\u001b[0;32m/Library/Frameworks/Python.framework/Versions/3.5/lib/python3.5/site-packages/selenium/webdriver/remote/webelement.py\u001b[0m in \u001b[0;36m_execute\u001b[0;34m(self, command, params)\u001b[0m\n\u001b[1;32m    492\u001b[0m             \u001b[0mparams\u001b[0m \u001b[0;34m=\u001b[0m \u001b[0;34m{\u001b[0m\u001b[0;34m}\u001b[0m\u001b[0;34m\u001b[0m\u001b[0m\n\u001b[1;32m    493\u001b[0m         \u001b[0mparams\u001b[0m\u001b[0;34m[\u001b[0m\u001b[0;34m'id'\u001b[0m\u001b[0;34m]\u001b[0m \u001b[0;34m=\u001b[0m \u001b[0mself\u001b[0m\u001b[0;34m.\u001b[0m\u001b[0m_id\u001b[0m\u001b[0;34m\u001b[0m\u001b[0m\n\u001b[0;32m--> 494\u001b[0;31m         \u001b[0;32mreturn\u001b[0m \u001b[0mself\u001b[0m\u001b[0;34m.\u001b[0m\u001b[0m_parent\u001b[0m\u001b[0;34m.\u001b[0m\u001b[0mexecute\u001b[0m\u001b[0;34m(\u001b[0m\u001b[0mcommand\u001b[0m\u001b[0;34m,\u001b[0m \u001b[0mparams\u001b[0m\u001b[0;34m)\u001b[0m\u001b[0;34m\u001b[0m\u001b[0m\n\u001b[0m\u001b[1;32m    495\u001b[0m \u001b[0;34m\u001b[0m\u001b[0m\n\u001b[1;32m    496\u001b[0m     \u001b[0;32mdef\u001b[0m \u001b[0mfind_element\u001b[0m\u001b[0;34m(\u001b[0m\u001b[0mself\u001b[0m\u001b[0;34m,\u001b[0m \u001b[0mby\u001b[0m\u001b[0;34m=\u001b[0m\u001b[0mBy\u001b[0m\u001b[0;34m.\u001b[0m\u001b[0mID\u001b[0m\u001b[0;34m,\u001b[0m \u001b[0mvalue\u001b[0m\u001b[0;34m=\u001b[0m\u001b[0;32mNone\u001b[0m\u001b[0;34m)\u001b[0m\u001b[0;34m:\u001b[0m\u001b[0;34m\u001b[0m\u001b[0m\n",
      "\u001b[0;32m/Library/Frameworks/Python.framework/Versions/3.5/lib/python3.5/site-packages/selenium/webdriver/remote/webdriver.py\u001b[0m in \u001b[0;36mexecute\u001b[0;34m(self, driver_command, params)\u001b[0m\n\u001b[1;32m    234\u001b[0m         \u001b[0mresponse\u001b[0m \u001b[0;34m=\u001b[0m \u001b[0mself\u001b[0m\u001b[0;34m.\u001b[0m\u001b[0mcommand_executor\u001b[0m\u001b[0;34m.\u001b[0m\u001b[0mexecute\u001b[0m\u001b[0;34m(\u001b[0m\u001b[0mdriver_command\u001b[0m\u001b[0;34m,\u001b[0m \u001b[0mparams\u001b[0m\u001b[0;34m)\u001b[0m\u001b[0;34m\u001b[0m\u001b[0m\n\u001b[1;32m    235\u001b[0m         \u001b[0;32mif\u001b[0m \u001b[0mresponse\u001b[0m\u001b[0;34m:\u001b[0m\u001b[0;34m\u001b[0m\u001b[0m\n\u001b[0;32m--> 236\u001b[0;31m             \u001b[0mself\u001b[0m\u001b[0;34m.\u001b[0m\u001b[0merror_handler\u001b[0m\u001b[0;34m.\u001b[0m\u001b[0mcheck_response\u001b[0m\u001b[0;34m(\u001b[0m\u001b[0mresponse\u001b[0m\u001b[0;34m)\u001b[0m\u001b[0;34m\u001b[0m\u001b[0m\n\u001b[0m\u001b[1;32m    237\u001b[0m             response['value'] = self._unwrap_value(\n\u001b[1;32m    238\u001b[0m                 response.get('value', None))\n",
      "\u001b[0;32m/Library/Frameworks/Python.framework/Versions/3.5/lib/python3.5/site-packages/selenium/webdriver/remote/errorhandler.py\u001b[0m in \u001b[0;36mcheck_response\u001b[0;34m(self, response)\u001b[0m\n\u001b[1;32m    190\u001b[0m         \u001b[0;32melif\u001b[0m \u001b[0mexception_class\u001b[0m \u001b[0;34m==\u001b[0m \u001b[0mUnexpectedAlertPresentException\u001b[0m \u001b[0;32mand\u001b[0m \u001b[0;34m'alert'\u001b[0m \u001b[0;32min\u001b[0m \u001b[0mvalue\u001b[0m\u001b[0;34m:\u001b[0m\u001b[0;34m\u001b[0m\u001b[0m\n\u001b[1;32m    191\u001b[0m             \u001b[0;32mraise\u001b[0m \u001b[0mexception_class\u001b[0m\u001b[0;34m(\u001b[0m\u001b[0mmessage\u001b[0m\u001b[0;34m,\u001b[0m \u001b[0mscreen\u001b[0m\u001b[0;34m,\u001b[0m \u001b[0mstacktrace\u001b[0m\u001b[0;34m,\u001b[0m \u001b[0mvalue\u001b[0m\u001b[0;34m[\u001b[0m\u001b[0;34m'alert'\u001b[0m\u001b[0;34m]\u001b[0m\u001b[0;34m.\u001b[0m\u001b[0mget\u001b[0m\u001b[0;34m(\u001b[0m\u001b[0;34m'text'\u001b[0m\u001b[0;34m)\u001b[0m\u001b[0;34m)\u001b[0m\u001b[0;34m\u001b[0m\u001b[0m\n\u001b[0;32m--> 192\u001b[0;31m         \u001b[0;32mraise\u001b[0m \u001b[0mexception_class\u001b[0m\u001b[0;34m(\u001b[0m\u001b[0mmessage\u001b[0m\u001b[0;34m,\u001b[0m \u001b[0mscreen\u001b[0m\u001b[0;34m,\u001b[0m \u001b[0mstacktrace\u001b[0m\u001b[0;34m)\u001b[0m\u001b[0;34m\u001b[0m\u001b[0m\n\u001b[0m\u001b[1;32m    193\u001b[0m \u001b[0;34m\u001b[0m\u001b[0m\n\u001b[1;32m    194\u001b[0m     \u001b[0;32mdef\u001b[0m \u001b[0m_value_or_default\u001b[0m\u001b[0;34m(\u001b[0m\u001b[0mself\u001b[0m\u001b[0;34m,\u001b[0m \u001b[0mobj\u001b[0m\u001b[0;34m,\u001b[0m \u001b[0mkey\u001b[0m\u001b[0;34m,\u001b[0m \u001b[0mdefault\u001b[0m\u001b[0;34m)\u001b[0m\u001b[0;34m:\u001b[0m\u001b[0;34m\u001b[0m\u001b[0m\n",
      "\u001b[0;31mStaleElementReferenceException\u001b[0m: Message: stale element reference: element is not attached to the page document\n  (Session info: chrome=58.0.3029.110)\n  (Driver info: chromedriver=2.24.417412 (ac882d3ce7c0d99292439bf3405780058fcca0a6),platform=Mac OS X 10.12.4 x86_64)\n"
     ]
    }
   ],
   "source": [
    "board_positions[0].text"
   ]
  },
  {
   "cell_type": "code",
   "execution_count": 72,
   "metadata": {
    "collapsed": false
   },
   "outputs": [],
   "source": []
  },
  {
   "cell_type": "code",
   "execution_count": 41,
   "metadata": {
    "collapsed": false
   },
   "outputs": [],
   "source": [
    "var_names = driver.find_elements_by_css_selector('tr+ tr .iwud , table+ table .iwud')\n",
    "var_values = driver.find_elements_by_css_selector('.iwud+ .iwuddata')\n",
    "\n"
   ]
  },
  {
   "cell_type": "code",
   "execution_count": 57,
   "metadata": {
    "collapsed": false
   },
   "outputs": [],
   "source": []
  },
  {
   "cell_type": "code",
   "execution_count": 58,
   "metadata": {
    "collapsed": false
   },
   "outputs": [
    {
     "name": "stdout",
     "output_type": "stream",
     "text": [
      "AT\n",
      "MATT BEATTY, ATTORNEY\n",
      "BEATTY BANGLE STRAMA\n",
      "BD\n",
      "CESAR RODRIGUEZ, DIRECTOR\n",
      "AGUA SUD\n",
      "BVP\n",
      "HOMERO TIJERINA, VICE PRESIDENT\n",
      "AGUA SUD\n",
      "RP\n",
      "ROGELIO HERNANDEZ, PRESIDENT\n",
      "AGUA SUD\n",
      "BS\n",
      "LLOYD LOYA, SECRETARY\n",
      "AGUA SUD\n",
      "BD\n",
      "RICARDO OCHOA, DIRECTOR\n",
      "AGUA SUD\n",
      "BD\n",
      "FRANCISCO FLORES, DIRECTOR\n",
      "AGUA SUD\n",
      "DAN\n",
      "OSCAR CANCINO, DISTRICT AGENT FOR NOTICE\n",
      "AGUA SUD\n",
      "OP\n",
      "OSCAR CANCINO, OPERATOR\n",
      "AGUA SUD\n",
      "DE\n",
      "JOSE E. SAENZ, DISTRICT ENGINEER\n",
      "CSJ GROUP\n",
      "DFA\n",
      "CRIS VELA, DISTRICT FINANCIAL ADVISOR\n",
      "FIRST SOUTHWEST COMPANY\n",
      "BT\n",
      "ESEQUIEL ORTIZ, TREASURER\n",
      "AGUA SUD\n",
      "DB\n",
      "DAGOBERTO SOTO, BOOKKEEPER\n",
      "AGUA SUD\n",
      "EXD\n",
      "OSCAR CANCINO, EXECUTIVE DIRECTOR\n",
      "AGUA SUD\n"
     ]
    }
   ],
   "source": [
    "for t in test:\n",
    "    print(t.text)"
   ]
  },
  {
   "cell_type": "code",
   "execution_count": null,
   "metadata": {
    "collapsed": true
   },
   "outputs": [],
   "source": []
  },
  {
   "cell_type": "code",
   "execution_count": null,
   "metadata": {
    "collapsed": true
   },
   "outputs": [],
   "source": []
  },
  {
   "cell_type": "code",
   "execution_count": null,
   "metadata": {
    "collapsed": true
   },
   "outputs": [],
   "source": []
  },
  {
   "cell_type": "code",
   "execution_count": null,
   "metadata": {
    "collapsed": true
   },
   "outputs": [],
   "source": []
  },
  {
   "cell_type": "code",
   "execution_count": null,
   "metadata": {
    "collapsed": true
   },
   "outputs": [],
   "source": []
  },
  {
   "cell_type": "code",
   "execution_count": null,
   "metadata": {
    "collapsed": true
   },
   "outputs": [],
   "source": []
  },
  {
   "cell_type": "code",
   "execution_count": null,
   "metadata": {
    "collapsed": true
   },
   "outputs": [],
   "source": []
  },
  {
   "cell_type": "code",
   "execution_count": 21,
   "metadata": {
    "collapsed": false
   },
   "outputs": [
    {
     "name": "stdout",
     "output_type": "stream",
     "text": [
      "Type\n",
      "Contact\n",
      "Communication\n",
      "AC - Administrative Contact - MAYOR\n",
      "RIGBY, LOUIS, R\n",
      "604 W FAIRMONT PKWY\n",
      "LA PORTE, TX 77571-6215\n",
      "Phone Type Value\n",
      "BUS - Business 281-471-5020\n",
      "BUS - Business 281-471-9650\n",
      "Phone Type\n",
      "Value\n",
      "BUS - Business\n",
      "281-471-5020\n",
      "BUS - Business\n",
      "281-471-9650\n",
      "EC - Emergency Contact - ASSISTANT SUPERINTEN\n",
      "MAYO, RAY\n",
      "Phone Type Value\n",
      "EMERG - Emergency 281-471-9650\n",
      "Phone Type\n",
      "Value\n",
      "EMERG - Emergency\n",
      "281-471-9650\n",
      "ECS - Emergency Contact - Secondary - UTILITY DIRECTOR\n",
      "MICK, DAVE\n",
      "Phone Type Value\n",
      "BUS - Business 281-471-9650\n",
      "MOB - Mobile 713-553-4071\n",
      "Phone Type\n",
      "Value\n",
      "BUS - Business\n",
      "281-471-9650\n",
      "MOB - Mobile\n",
      "713-553-4071\n",
      "FC - Financial Contact - WATER SUPERINTENDENT\n",
      "HERROD, CURTIS\n",
      "2963 N 23RD ST\n",
      "LA PORTE, TX 77571-3183\n",
      "Phone Type Value\n",
      "BUS - Business 281-471-9650\n",
      "BUS - Business 281-471-5020\n",
      "FAX - Facsimile 281-470-5129\n",
      "Phone Type\n",
      "Value\n",
      "BUS - Business\n",
      "281-471-9650\n",
      "BUS - Business\n",
      "281-471-5020\n",
      "FAX - Facsimile\n",
      "281-470-5129\n",
      "OW - Owner\n",
      "CITY OF LA PORTE\n",
      "2963 N 23RD ST\n",
      "LA PORTE, TX 77571\n",
      "\n",
      "PWS - Public Water System Contact - WATER SUPERINTENDENT\n",
      "HERROD, CURTIS\n",
      "2963 N 23RD ST\n",
      "LA PORTE, TX 77571-3183\n",
      "Phone Type Value\n",
      "BUS - Business 281-471-9650\n",
      "BUS - Business 281-471-5020\n",
      "FAX - Facsimile 281-470-5129\n",
      "Phone Type\n",
      "Value\n",
      "BUS - Business\n",
      "281-471-9650\n",
      "BUS - Business\n",
      "281-471-5020\n",
      "FAX - Facsimile\n",
      "281-470-5129\n"
     ]
    }
   ],
   "source": [
    "for t in contact_set:\n",
    "    print(t.text)"
   ]
  },
  {
   "cell_type": "code",
   "execution_count": null,
   "metadata": {
    "collapsed": true
   },
   "outputs": [],
   "source": [
    "BeautifulSoup."
   ]
  },
  {
   "cell_type": "code",
   "execution_count": null,
   "metadata": {
    "collapsed": true
   },
   "outputs": [],
   "source": []
  },
  {
   "cell_type": "code",
   "execution_count": null,
   "metadata": {
    "collapsed": true
   },
   "outputs": [],
   "source": []
  },
  {
   "cell_type": "code",
   "execution_count": null,
   "metadata": {
    "collapsed": true
   },
   "outputs": [],
   "source": []
  },
  {
   "cell_type": "code",
   "execution_count": null,
   "metadata": {
    "collapsed": true
   },
   "outputs": [],
   "source": []
  },
  {
   "cell_type": "code",
   "execution_count": null,
   "metadata": {
    "collapsed": true
   },
   "outputs": [],
   "source": []
  },
  {
   "cell_type": "code",
   "execution_count": 9,
   "metadata": {
    "collapsed": false
   },
   "outputs": [
    {
     "data": {
      "text/plain": [
       "'AC - Administrative Contact - MAYOR'"
      ]
     },
     "execution_count": 9,
     "metadata": {},
     "output_type": "execute_result"
    }
   ],
   "source": []
  },
  {
   "cell_type": "code",
   "execution_count": null,
   "metadata": {
    "collapsed": true
   },
   "outputs": [],
   "source": []
  },
  {
   "cell_type": "code",
   "execution_count": null,
   "metadata": {
    "collapsed": true
   },
   "outputs": [],
   "source": []
  },
  {
   "cell_type": "code",
   "execution_count": null,
   "metadata": {
    "collapsed": true
   },
   "outputs": [],
   "source": []
  },
  {
   "cell_type": "code",
   "execution_count": null,
   "metadata": {
    "collapsed": true
   },
   "outputs": [],
   "source": []
  },
  {
   "cell_type": "code",
   "execution_count": null,
   "metadata": {
    "collapsed": true
   },
   "outputs": [],
   "source": []
  },
  {
   "cell_type": "code",
   "execution_count": null,
   "metadata": {
    "collapsed": true
   },
   "outputs": [],
   "source": []
  },
  {
   "cell_type": "code",
   "execution_count": null,
   "metadata": {
    "collapsed": true
   },
   "outputs": [],
   "source": []
  },
  {
   "cell_type": "code",
   "execution_count": null,
   "metadata": {
    "collapsed": true
   },
   "outputs": [],
   "source": [
    " = 2016\n",
    "quarter = 4\n",
    "print(year)\n",
    "print(quarter)\n",
    "driver.get(base_page)\n",
    "        #CountyCode\n",
    "select_report = Select(driver.find_element_by_css_selector('#P1_REPORT'))\n",
    "select_report.select_by_value('WD')\n",
    "select_type = Select(driver.find_element_by_css_selector('#P0_PWS_TYPE'))\n",
    "select_type.select_by_value('CWS')\n",
    "select_status = Select(driver.find_element_by_css_selector('#P0_ACTIVITY_STATUS'))\n",
    "select_status.select_by_value('')\n",
    "select_noschool = Select(driver.find_element_by_css_selector('#P1_DAYCARE'))\n",
    "select_noschool.select_by_value('N')\n",
    "select_texas = Select(driver.find_element_by_css_selector('#P0_PRIMACY_AGENCY'))\n",
    "select_texas.select_by_value('TX')\n",
    "select_year = Select(driver.find_element_by_css_selector('#P0_FISCAL_YEAR'))\n",
    "select_year.select_by_value(str(year))\n",
    "driver.implicitly_wait(3)\n",
    "select_quarter = Select(driver.find_element_by_css_selector('#P0_QUARTER'))\n",
    "select_quarter.select_by_value(str(quarter))\n",
    "driver.find_element_by_css_selector('.uHotButton span').click()\n",
    "driver.implicitly_wait(3)\n",
    "driver.find_element_by_css_selector('#B23718804733087619 span').click()\n",
    "driver.implicitly_wait(10)\n",
    "#driver.find_element_by_id('#SFDWIR_download_CSV').click()"
   ]
  }
 ],
 "metadata": {
  "kernelspec": {
   "display_name": "Python 3",
   "language": "python",
   "name": "python3"
  },
  "language_info": {
   "codemirror_mode": {
    "name": "ipython",
    "version": 3
   },
   "file_extension": ".py",
   "mimetype": "text/x-python",
   "name": "python",
   "nbconvert_exporter": "python",
   "pygments_lexer": "ipython3",
   "version": "3.5.1"
  }
 },
 "nbformat": 4,
 "nbformat_minor": 0
}
