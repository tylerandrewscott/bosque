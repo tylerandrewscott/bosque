{
 "cells": [
  {
   "cell_type": "code",
   "execution_count": 39,
   "metadata": {
    "collapsed": false
   },
   "outputs": [],
   "source": [
    "import time\n",
    "from selenium import webdriver\n",
    "from bs4 import BeautifulSoup\n",
    "import pandas as pd\n",
    "complete_doc_set = pd.DataFrame()\n",
    "\n",
    "\n",
    "driver = webdriver.Chrome()  # Optional argument, if not specified will search path.\n",
    "base_page = 'http://www14.tceq.texas.gov/iwud/document/index.cfm?fuseaction=ListDocumentsByType&COMMAND=LIST'\n",
    "driver.get(base_page)\n",
    "#CountyCode\n",
    "\n",
    "audit_vars_css = 'td.iwud:nth-child(1)'\n",
    "audit_vals_css = '.iwud+ td'\n",
    "get_doc_id = 'table:nth-child(6) tr:nth-child(1) .iwuddata'\n",
    "access_more_docs = '.iwudgreyrow~ tr a img'\n",
    "from selenium.webdriver.support.ui import Select\n",
    "from selenium.webdriver.support import expected_conditions as EC\n",
    "#\n",
    "# select by value \n",
    "#select.select_by_value('1')\n",
    "#wait = WebDriverWait(driver, 10)\n",
    "select_doc_type = Select(driver.find_element_by_id('DocType'))\n",
    "select_doc_type.select_by_visible_text('ANNUAL REPORTS')\n",
    "driver.find_element_by_css_selector('.iwudstatus+ td input').click()\n",
    "#empty_audit_info = pd.DataFrame()\n",
    "\n",
    "#empty_audit_info = pd.read_csv('../../input/tceq_audits/audit_doc_scrapes.csv',index_col=0)\n",
    "should_restart = True\n",
    "while should_restart:\n",
    "    should_restart = False\n",
    "    doc_id_links = driver.find_elements_by_css_selector('.iwud+ .iwud a')\n",
    "    district_name_elements = driver.find_elements_by_css_selector('form+ table .iwud:nth-child(2)')\n",
    "    site_id_elements = driver.find_elements_by_css_selector('.iwud:nth-child(3)')\n",
    "    #for site in site_id[1:]:\n",
    "    #    site_ids.append(site.text)\n",
    "    site_ids = []\n",
    "    district_names = []\n",
    "    doc_ids = []\n",
    "    doc_urls = []\n",
    "    not_blank = []\n",
    "    #for s in site_ids:\n",
    "    #    not_blank.append(s != ' ')\n",
    "    #doc_id_links = [i for indx,i in enumerate(doc_id_links) if not_blank[indx]]\n",
    "    for d in range(len(doc_id_links)):\n",
    "        doc_ids.append(doc_id_links[d].text)\n",
    "        doc_urls.append(doc_id_links[d].get_attribute('href'))\n",
    "        district_names.append(district_name_elements[d].text)\n",
    "        site_ids.append(site_id_elements[d].text)\n",
    "    temp_doc_set = pd.DataFrame({'District Name': district_names,'SITE_ID':site_ids, \n",
    "     'DOC_ID': doc_ids,'DOC_URL':doc_urls})\n",
    "    complete_doc_set = complete_doc_set.append(temp_doc_set)\n",
    "    if len(driver.find_elements_by_css_selector(\"img[alt='Next page']\"))!=0:\n",
    "        driver.find_element_by_name('next').click()\n",
    "        should_restart = True\n",
    "        continue"
   ]
  },
  {
   "cell_type": "code",
   "execution_count": null,
   "metadata": {
    "collapsed": true
   },
   "outputs": [],
   "source": []
  },
  {
   "cell_type": "code",
   "execution_count": null,
   "metadata": {
    "collapsed": true
   },
   "outputs": [],
   "source": []
  },
  {
   "cell_type": "code",
   "execution_count": 40,
   "metadata": {
    "collapsed": false
   },
   "outputs": [],
   "source": [
    "complete_doc_set.to_csv('../../input/tceq_audits/private_entity_financial_report_reference_list.csv')"
   ]
  },
  {
   "cell_type": "code",
   "execution_count": null,
   "metadata": {
    "collapsed": true
   },
   "outputs": [],
   "source": []
  }
 ],
 "metadata": {
  "kernelspec": {
   "display_name": "Python 3",
   "language": "python",
   "name": "python3"
  },
  "language_info": {
   "codemirror_mode": {
    "name": "ipython",
    "version": 3
   },
   "file_extension": ".py",
   "mimetype": "text/x-python",
   "name": "python",
   "nbconvert_exporter": "python",
   "pygments_lexer": "ipython3",
   "version": "3.5.1"
  }
 },
 "nbformat": 4,
 "nbformat_minor": 0
}
