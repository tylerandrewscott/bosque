{
 "cells": [
  {
   "cell_type": "code",
   "execution_count": 1,
   "metadata": {},
   "outputs": [],
   "source": [
    "import time\n",
    "\n",
    "import time\n",
    "from selenium import webdriver\n",
    "from bs4 import BeautifulSoup\n",
    "import pandas as pd\n",
    "from selenium.webdriver import Chrome\n",
    "from selenium.webdriver.chrome.options import Options\n",
    "\n",
    "chrome_options = Options()\n",
    "chrome_options.add_argument('--dns-prefetch-disable')\n",
    "#driver = Chrome(chrome_options=options)\n",
    "from selenium.webdriver.support.ui import Select\n",
    "from selenium.webdriver.support import expected_conditions as EC\n",
    "driver = webdriver.Chrome(chrome_options=chrome_options)  # Optional argument, if not specified will search path.\n",
    "base_page = 'http://dww2.tceq.texas.gov/DWW/JSP/DataSheet.jsp?tinwsys_is_number=2195&tinwsys_st_code=TX&wsnumber=TX1010018%20%20%20&DWWState=TX&begin_date=&end_date=&counter='\n",
    "\n",
    "driver.get(base_page)"
   ]
  },
  {
   "cell_type": "code",
   "execution_count": 20,
   "metadata": {},
   "outputs": [],
   "source": [
    "contact_set = driver.find_elements_by_css_selector('br+ table tr+ tr th , table:nth-child(10) td')"
   ]
  },
  {
   "cell_type": "code",
   "execution_count": 24,
   "metadata": {},
   "outputs": [],
   "source": [
    "el = driver.find_element_by_xpath('/html/body/table/tbody/tr/td/table[5]/tbody')"
   ]
  },
  {
   "cell_type": "code",
   "execution_count": 28,
   "metadata": {},
   "outputs": [
    {
     "ename": "ValueError",
     "evalue": "No tables found",
     "output_type": "error",
     "traceback": [
      "\u001b[0;31m---------------------------------------------------------------------------\u001b[0m",
      "\u001b[0;31mValueError\u001b[0m                                Traceback (most recent call last)",
      "\u001b[0;32m<ipython-input-28-d4cc5d9f75e9>\u001b[0m in \u001b[0;36m<module>\u001b[0;34m()\u001b[0m\n\u001b[0;32m----> 1\u001b[0;31m \u001b[0mpd\u001b[0m\u001b[0;34m.\u001b[0m\u001b[0mread_html\u001b[0m\u001b[0;34m(\u001b[0m\u001b[0mel\u001b[0m\u001b[0;34m.\u001b[0m\u001b[0mtext\u001b[0m\u001b[0;34m)\u001b[0m\u001b[0;34m\u001b[0m\u001b[0m\n\u001b[0m",
      "\u001b[0;32m/Library/Frameworks/Python.framework/Versions/3.5/lib/python3.5/site-packages/pandas/io/html.py\u001b[0m in \u001b[0;36mread_html\u001b[0;34m(io, match, flavor, header, index_col, skiprows, attrs, parse_dates, tupleize_cols, thousands, encoding)\u001b[0m\n\u001b[1;32m    864\u001b[0m     \u001b[0m_validate_header_arg\u001b[0m\u001b[0;34m(\u001b[0m\u001b[0mheader\u001b[0m\u001b[0;34m)\u001b[0m\u001b[0;34m\u001b[0m\u001b[0m\n\u001b[1;32m    865\u001b[0m     return _parse(flavor, io, match, header, index_col, skiprows,\n\u001b[0;32m--> 866\u001b[0;31m                   parse_dates, tupleize_cols, thousands, attrs, encoding)\n\u001b[0m",
      "\u001b[0;32m/Library/Frameworks/Python.framework/Versions/3.5/lib/python3.5/site-packages/pandas/io/html.py\u001b[0m in \u001b[0;36m_parse\u001b[0;34m(flavor, io, match, header, index_col, skiprows, parse_dates, tupleize_cols, thousands, attrs, encoding)\u001b[0m\n\u001b[1;32m    726\u001b[0m             \u001b[0;32mbreak\u001b[0m\u001b[0;34m\u001b[0m\u001b[0m\n\u001b[1;32m    727\u001b[0m     \u001b[0;32melse\u001b[0m\u001b[0;34m:\u001b[0m\u001b[0;34m\u001b[0m\u001b[0m\n\u001b[0;32m--> 728\u001b[0;31m         \u001b[0mraise_with_traceback\u001b[0m\u001b[0;34m(\u001b[0m\u001b[0mretained\u001b[0m\u001b[0;34m)\u001b[0m\u001b[0;34m\u001b[0m\u001b[0m\n\u001b[0m\u001b[1;32m    729\u001b[0m \u001b[0;34m\u001b[0m\u001b[0m\n\u001b[1;32m    730\u001b[0m     \u001b[0mret\u001b[0m \u001b[0;34m=\u001b[0m \u001b[0;34m[\u001b[0m\u001b[0;34m]\u001b[0m\u001b[0;34m\u001b[0m\u001b[0m\n",
      "\u001b[0;32m/Library/Frameworks/Python.framework/Versions/3.5/lib/python3.5/site-packages/pandas/compat/__init__.py\u001b[0m in \u001b[0;36mraise_with_traceback\u001b[0;34m(exc, traceback)\u001b[0m\n\u001b[1;32m    746\u001b[0m         \u001b[0;32mif\u001b[0m \u001b[0mtraceback\u001b[0m \u001b[0;34m==\u001b[0m \u001b[0mEllipsis\u001b[0m\u001b[0;34m:\u001b[0m\u001b[0;34m\u001b[0m\u001b[0m\n\u001b[1;32m    747\u001b[0m             \u001b[0m_\u001b[0m\u001b[0;34m,\u001b[0m \u001b[0m_\u001b[0m\u001b[0;34m,\u001b[0m \u001b[0mtraceback\u001b[0m \u001b[0;34m=\u001b[0m \u001b[0msys\u001b[0m\u001b[0;34m.\u001b[0m\u001b[0mexc_info\u001b[0m\u001b[0;34m(\u001b[0m\u001b[0;34m)\u001b[0m\u001b[0;34m\u001b[0m\u001b[0m\n\u001b[0;32m--> 748\u001b[0;31m         \u001b[0;32mraise\u001b[0m \u001b[0mexc\u001b[0m\u001b[0;34m.\u001b[0m\u001b[0mwith_traceback\u001b[0m\u001b[0;34m(\u001b[0m\u001b[0mtraceback\u001b[0m\u001b[0;34m)\u001b[0m\u001b[0;34m\u001b[0m\u001b[0m\n\u001b[0m\u001b[1;32m    749\u001b[0m \u001b[0;32melse\u001b[0m\u001b[0;34m:\u001b[0m\u001b[0;34m\u001b[0m\u001b[0m\n\u001b[1;32m    750\u001b[0m     \u001b[0;31m# this version of raise is a syntax error in Python 3\u001b[0m\u001b[0;34m\u001b[0m\u001b[0;34m\u001b[0m\u001b[0m\n",
      "\u001b[0;31mValueError\u001b[0m: No tables found"
     ]
    }
   ],
   "source": [
    "pd.read_html(el.text)"
   ]
  },
  {
   "cell_type": "code",
   "execution_count": null,
   "metadata": {
    "collapsed": true
   },
   "outputs": [],
   "source": []
  },
  {
   "cell_type": "code",
   "execution_count": null,
   "metadata": {
    "collapsed": true
   },
   "outputs": [],
   "source": []
  },
  {
   "cell_type": "code",
   "execution_count": null,
   "metadata": {
    "collapsed": true
   },
   "outputs": [],
   "source": []
  },
  {
   "cell_type": "code",
   "execution_count": null,
   "metadata": {
    "collapsed": true
   },
   "outputs": [],
   "source": []
  },
  {
   "cell_type": "code",
   "execution_count": null,
   "metadata": {
    "collapsed": true
   },
   "outputs": [],
   "source": []
  },
  {
   "cell_type": "code",
   "execution_count": null,
   "metadata": {
    "collapsed": true
   },
   "outputs": [],
   "source": []
  },
  {
   "cell_type": "code",
   "execution_count": null,
   "metadata": {
    "collapsed": true
   },
   "outputs": [],
   "source": []
  },
  {
   "cell_type": "code",
   "execution_count": null,
   "metadata": {
    "collapsed": true
   },
   "outputs": [],
   "source": []
  },
  {
   "cell_type": "code",
   "execution_count": 21,
   "metadata": {},
   "outputs": [
    {
     "name": "stdout",
     "output_type": "stream",
     "text": [
      "Type\n",
      "Contact\n",
      "Communication\n",
      "AC - Administrative Contact - MAYOR\n",
      "RIGBY, LOUIS, R\n",
      "604 W FAIRMONT PKWY\n",
      "LA PORTE, TX 77571-6215\n",
      "Phone Type Value\n",
      "BUS - Business 281-471-5020\n",
      "BUS - Business 281-471-9650\n",
      "Phone Type\n",
      "Value\n",
      "BUS - Business\n",
      "281-471-5020\n",
      "BUS - Business\n",
      "281-471-9650\n",
      "EC - Emergency Contact - ASSISTANT SUPERINTEN\n",
      "MAYO, RAY\n",
      "Phone Type Value\n",
      "EMERG - Emergency 281-471-9650\n",
      "Phone Type\n",
      "Value\n",
      "EMERG - Emergency\n",
      "281-471-9650\n",
      "ECS - Emergency Contact - Secondary - UTILITY DIRECTOR\n",
      "MICK, DAVE\n",
      "Phone Type Value\n",
      "BUS - Business 281-471-9650\n",
      "MOB - Mobile 713-553-4071\n",
      "Phone Type\n",
      "Value\n",
      "BUS - Business\n",
      "281-471-9650\n",
      "MOB - Mobile\n",
      "713-553-4071\n",
      "FC - Financial Contact - WATER SUPERINTENDENT\n",
      "HERROD, CURTIS\n",
      "2963 N 23RD ST\n",
      "LA PORTE, TX 77571-3183\n",
      "Phone Type Value\n",
      "BUS - Business 281-471-9650\n",
      "BUS - Business 281-471-5020\n",
      "FAX - Facsimile 281-470-5129\n",
      "Phone Type\n",
      "Value\n",
      "BUS - Business\n",
      "281-471-9650\n",
      "BUS - Business\n",
      "281-471-5020\n",
      "FAX - Facsimile\n",
      "281-470-5129\n",
      "OW - Owner\n",
      "CITY OF LA PORTE\n",
      "2963 N 23RD ST\n",
      "LA PORTE, TX 77571\n",
      "\n",
      "PWS - Public Water System Contact - WATER SUPERINTENDENT\n",
      "HERROD, CURTIS\n",
      "2963 N 23RD ST\n",
      "LA PORTE, TX 77571-3183\n",
      "Phone Type Value\n",
      "BUS - Business 281-471-9650\n",
      "BUS - Business 281-471-5020\n",
      "FAX - Facsimile 281-470-5129\n",
      "Phone Type\n",
      "Value\n",
      "BUS - Business\n",
      "281-471-9650\n",
      "BUS - Business\n",
      "281-471-5020\n",
      "FAX - Facsimile\n",
      "281-470-5129\n"
     ]
    }
   ],
   "source": [
    "for t in contact_set:\n",
    "    print(t.text)"
   ]
  },
  {
   "cell_type": "code",
   "execution_count": null,
   "metadata": {
    "collapsed": true
   },
   "outputs": [],
   "source": [
    "BeautifulSoup."
   ]
  },
  {
   "cell_type": "code",
   "execution_count": null,
   "metadata": {
    "collapsed": true
   },
   "outputs": [],
   "source": []
  },
  {
   "cell_type": "code",
   "execution_count": null,
   "metadata": {
    "collapsed": true
   },
   "outputs": [],
   "source": []
  },
  {
   "cell_type": "code",
   "execution_count": null,
   "metadata": {
    "collapsed": true
   },
   "outputs": [],
   "source": []
  },
  {
   "cell_type": "code",
   "execution_count": null,
   "metadata": {
    "collapsed": true
   },
   "outputs": [],
   "source": []
  },
  {
   "cell_type": "code",
   "execution_count": null,
   "metadata": {
    "collapsed": true
   },
   "outputs": [],
   "source": []
  },
  {
   "cell_type": "code",
   "execution_count": 9,
   "metadata": {},
   "outputs": [
    {
     "data": {
      "text/plain": [
       "'AC - Administrative Contact - MAYOR'"
      ]
     },
     "execution_count": 9,
     "metadata": {},
     "output_type": "execute_result"
    }
   ],
   "source": []
  },
  {
   "cell_type": "code",
   "execution_count": null,
   "metadata": {
    "collapsed": true
   },
   "outputs": [],
   "source": []
  },
  {
   "cell_type": "code",
   "execution_count": null,
   "metadata": {
    "collapsed": true
   },
   "outputs": [],
   "source": []
  },
  {
   "cell_type": "code",
   "execution_count": null,
   "metadata": {
    "collapsed": true
   },
   "outputs": [],
   "source": []
  },
  {
   "cell_type": "code",
   "execution_count": null,
   "metadata": {
    "collapsed": true
   },
   "outputs": [],
   "source": []
  },
  {
   "cell_type": "code",
   "execution_count": null,
   "metadata": {
    "collapsed": true
   },
   "outputs": [],
   "source": []
  },
  {
   "cell_type": "code",
   "execution_count": null,
   "metadata": {
    "collapsed": true
   },
   "outputs": [],
   "source": []
  },
  {
   "cell_type": "code",
   "execution_count": null,
   "metadata": {
    "collapsed": true
   },
   "outputs": [],
   "source": []
  },
  {
   "cell_type": "code",
   "execution_count": null,
   "metadata": {
    "collapsed": true
   },
   "outputs": [],
   "source": [
    " = 2016\n",
    "quarter = 4\n",
    "print(year)\n",
    "print(quarter)\n",
    "driver.get(base_page)\n",
    "        #CountyCode\n",
    "select_report = Select(driver.find_element_by_css_selector('#P1_REPORT'))\n",
    "select_report.select_by_value('WD')\n",
    "select_type = Select(driver.find_element_by_css_selector('#P0_PWS_TYPE'))\n",
    "select_type.select_by_value('CWS')\n",
    "select_status = Select(driver.find_element_by_css_selector('#P0_ACTIVITY_STATUS'))\n",
    "select_status.select_by_value('')\n",
    "select_noschool = Select(driver.find_element_by_css_selector('#P1_DAYCARE'))\n",
    "select_noschool.select_by_value('N')\n",
    "select_texas = Select(driver.find_element_by_css_selector('#P0_PRIMACY_AGENCY'))\n",
    "select_texas.select_by_value('TX')\n",
    "select_year = Select(driver.find_element_by_css_selector('#P0_FISCAL_YEAR'))\n",
    "select_year.select_by_value(str(year))\n",
    "driver.implicitly_wait(3)\n",
    "select_quarter = Select(driver.find_element_by_css_selector('#P0_QUARTER'))\n",
    "select_quarter.select_by_value(str(quarter))\n",
    "driver.find_element_by_css_selector('.uHotButton span').click()\n",
    "driver.implicitly_wait(3)\n",
    "driver.find_element_by_css_selector('#B23718804733087619 span').click()\n",
    "driver.implicitly_wait(10)\n",
    "#driver.find_element_by_id('#SFDWIR_download_CSV').click()"
   ]
  }
 ],
 "metadata": {
  "kernelspec": {
   "display_name": "Python 3",
   "language": "python",
   "name": "python3"
  },
  "language_info": {
   "codemirror_mode": {
    "name": "ipython",
    "version": 3
   },
   "file_extension": ".py",
   "mimetype": "text/x-python",
   "name": "python",
   "nbconvert_exporter": "python",
   "pygments_lexer": "ipython3",
   "version": "3.4.3"
  }
 },
 "nbformat": 4,
 "nbformat_minor": 1
}
