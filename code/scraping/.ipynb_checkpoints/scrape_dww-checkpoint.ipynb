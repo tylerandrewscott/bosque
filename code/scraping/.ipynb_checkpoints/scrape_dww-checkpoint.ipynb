{
 "cells": [
  {
   "cell_type": "code",
   "execution_count": 2,
   "metadata": {
    "collapsed": false
   },
   "outputs": [
    {
     "name": "stdout",
     "output_type": "stream",
     "text": [
      "2016\n",
      "4\n"
     ]
    }
   ],
   "source": [
    "import time\n",
    "\n",
    "import time\n",
    "from selenium import webdriver\n",
    "from bs4 import BeautifulSoup\n",
    "import pandas as pd\n",
    "from selenium.webdriver import Chrome\n",
    "from selenium.webdriver.chrome.options import Options\n",
    "\n",
    "chrome_options = Options()\n",
    "chrome_options.add_argument('--dns-prefetch-disable')\n",
    "#driver = Chrome(chrome_options=options)\n",
    "from selenium.webdriver.support.ui import Select\n",
    "from selenium.webdriver.support import expected_conditions as EC\n",
    "driver = webdriver.Chrome(chrome_options=chrome_options)  # Optional argument, if not specified will search path.\n",
    "base_page = 'https://ofmpub.epa.gov/apex/sfdw/f?p=108:1:::NO:1::'\n",
    "\n",
    "year = 2016\n",
    "quarter = 4\n",
    "print(year)\n",
    "print(quarter)\n",
    "driver.get(base_page)\n",
    "        #CountyCode\n",
    "select_report = Select(driver.find_element_by_css_selector('#P1_REPORT'))\n",
    "select_report.select_by_value('WD')\n",
    "select_type = Select(driver.find_element_by_css_selector('#P0_PWS_TYPE'))\n",
    "select_type.select_by_value('CWS')\n",
    "select_status = Select(driver.find_element_by_css_selector('#P0_ACTIVITY_STATUS'))\n",
    "select_status.select_by_value('')\n",
    "select_noschool = Select(driver.find_element_by_css_selector('#P1_DAYCARE'))\n",
    "select_noschool.select_by_value('N')\n",
    "select_texas = Select(driver.find_element_by_css_selector('#P0_PRIMACY_AGENCY'))\n",
    "select_texas.select_by_value('TX')\n",
    "select_year = Select(driver.find_element_by_css_selector('#P0_FISCAL_YEAR'))\n",
    "select_year.select_by_value(str(year))\n",
    "driver.implicitly_wait(3)\n",
    "select_quarter = Select(driver.find_element_by_css_selector('#P0_QUARTER'))\n",
    "select_quarter.select_by_value(str(quarter))\n",
    "driver.find_element_by_css_selector('.uHotButton span').click()\n",
    "driver.implicitly_wait(3)\n",
    "driver.find_element_by_css_selector('#B23718804733087619 span').click()\n",
    "driver.implicitly_wait(10)\n",
    "#driver.find_element_by_id('#SFDWIR_download_CSV').click()"
   ]
  },
  {
   "cell_type": "code",
   "execution_count": null,
   "metadata": {
    "collapsed": true
   },
   "outputs": [],
   "source": []
  }
 ],
 "metadata": {
  "kernelspec": {
   "display_name": "Python 3",
   "language": "python",
   "name": "python3"
  },
  "language_info": {
   "codemirror_mode": {
    "name": "ipython",
    "version": 3
   },
   "file_extension": ".py",
   "mimetype": "text/x-python",
   "name": "python",
   "nbconvert_exporter": "python",
   "pygments_lexer": "ipython3",
   "version": "3.5.1"
  }
 },
 "nbformat": 4,
 "nbformat_minor": 0
}
